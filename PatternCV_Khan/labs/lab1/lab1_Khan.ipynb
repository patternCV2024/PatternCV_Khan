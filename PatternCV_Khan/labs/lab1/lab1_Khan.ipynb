{
 "cells": [
  {
   "attachments": {},
   "cell_type": "markdown",
   "id": "538a8c0a",
   "metadata": {},
   "source": [
    "<h1 align=\"center\">Лабораторна робота 1. Побудова простого лінійного бінарного класифікатора\n",
    "</h1>"
   ]
  },
  {
   "cell_type": "markdown",
   "id": "bbc4e657",
   "metadata": {},
   "source": [
    "<a href=\"https://github.com/amx122\">Хань Євгеній </a>, 2024"
   ]
  },
  {
   "cell_type": "markdown",
   "id": "0939d964",
   "metadata": {},
   "source": [
    "<h2> Завдання для самостійної роботи </h2>"
   ]
  },
  {
   "cell_type": "markdown",
   "id": "eb40840d-eceb-4f15-a2a3-fa628b7c68e4",
   "metadata": {},
   "source": [
    "<ol>\n",
    "    <li>Імпортувати дані для навчальної вибірки згідно з індивідуальним варіантом (імпорт організувати з файлу).</li>\n",
    "    <li>Побудувати бінарний класифікатор і вивести результати бінарної класифікації на графіку. </li>\n",
    "    <li> Дати відповіді на контрольні запитання. </li>\n",
    "   <li>  Відправити результати роботи у файлі lab_1_StudentLastName.ipynb до віддаленого репозиторію на GіtHub. </li></olol>"
   ]
  },
  {
   "cell_type": "markdown",
   "id": "dd04ffa0-58b3-431a-aaee-115fdfb3e2bd",
   "metadata": {},
   "source": [
    "<h1> Виконання завдання:</h1>"
   ]
  },
  {
   "cell_type": "code",
   "execution_count": 10,
   "id": "32100da5-5ffe-46ad-a503-a09b0ccfc775",
   "metadata": {},
   "outputs": [
    {
     "name": "stdout",
     "output_type": "stream",
     "text": [
      "[1.3, -1]\n"
     ]
    },
    {
     "data": {
      "image/png": "[encoded data removed]",
      "text/plain": [
       "<Figure size 640x480 with 1 Axes>"
      ]
     },
     "metadata": {},
     "output_type": "display_data"
    }
   ],
   "source": [
    "import numpy as np\n",
    "import matplotlib.pyplot as plt\n",
    "\n",
    "# Навчальні дані\n",
    "x_train = np.array([[28, 31],\n",
    "                    [50, 32],\n",
    "                    [17, 36],\n",
    "                    [34, 34],\n",
    "                    [28, 6],\n",
    "                    [31, 43],\n",
    "                    [7, 8],\n",
    "                    [27, 25],\n",
    "                    [34, 34],\n",
    "                    [22, 42]])\n",
    "y_train = np.array([-1, 1, -1, 1, -1, 1, -1, -1, 1, 1])\n",
    "\n",
    "n_train = len(x_train)                          # Розмір навчальної вибірки\n",
    "w = [0, -1]                                     # Початкове значення ваги w\n",
    "a = lambda x: np.sign(x[0]*w[0] + x[1]*w[1])    # Правило класифікації\n",
    "L = 0.1                                         # Крок зміни ваги\n",
    "e = 0.1                                         # Невелике додаток до w0, щоб забезпечити зазор між лінією розділення та областю\n",
    "c = 0\n",
    "\n",
    "last_error_index = -1                           # Індекс останньої помилкової спостереження\n",
    "\n",
    "# Тренування моделі\n",
    "for _ in range(100):\n",
    "    c += 1\n",
    "    for i in range(n_train):                # Ітерація по спостереженням\n",
    "        if y_train[i]*a(x_train[i]) < 0:    # Якщо помилка класифікації,\n",
    "            w[0] = w[0] + L * y_train[i]    # То коригування ваги w0\n",
    "            last_error_index = i\n",
    "\n",
    "    Q = sum([1 for i in range(n_train) if y_train[i]*a(x_train[i]) < 0])\n",
    "    if Q == 0:      # Показник якості класифікації (кількість помилок)\n",
    "        break       # Зупинка, якщо всі класифікуються правильно\n",
    "\n",
    "if last_error_index > -1:\n",
    "    w[0] = w[0] + e * y_train[last_error_index]\n",
    "\n",
    "print(w)\n",
    "\n",
    "# Визначення координат для лінії розділення\n",
    "line_x = np.linspace(0, 50, 100)\n",
    "line_y = -(w[0]*line_x)/w[1]\n",
    "\n",
    "# Розділення даних по класам\n",
    "x_0 = x_train[y_train == 1]\n",
    "x_1 = x_train[y_train == -1]\n",
    "\n",
    "# Візуалізація результатів\n",
    "plt.scatter(x_0[:, 0], x_0[:, 1], color='red', label='Class 1')\n",
    "plt.scatter(x_1[:, 0], x_1[:, 1], color='blue', label='Class -1')\n",
    "plt.plot(line_x, line_y, color='green', label='Decision Boundary')\n",
    "\n",
    "plt.xlim([0, 50])\n",
    "plt.ylim([0, 50])\n",
    "plt.ylabel(\"Y\")\n",
    "plt.xlabel(\"X\")\n",
    "plt.legend()\n",
    "plt.grid(True)\n",
    "plt.show()\n"
   ]
  },
  {
   "cell_type": "markdown",
   "id": "b81143b8",
   "metadata": {},
   "source": [
    "<h1 align=\"center\">Контрольні запитання</h1>"
   ]
  },
  {
   "cell_type": "markdown",
   "id": "bdeb7384",
   "metadata": {},
   "source": [
    "\r\n",
    "<ol>\r\n",
    "    <li>Основні принципи розпізнавання образів у контексті машинного навчання включають:\r\n",
    "        <ul>\r\n",
    "            <li>Використання навчальних даних для тренування моделі.</li>\r\n",
    "            <li>Використання алгоритмів класифікації та регресії для встановлення зв'язків між вхідними даними та вихідними мітками.</li>\r\n",
    "        </ul>\r\n",
    "    </li>\r\n",
    "    <li>Навчальна вибірка - це набір даних, які використовуються для тренування моделі. Вона важлива для процесу розпізнавання образів, оскільки визначає, яким чином модель буде вчитися розпізнавати образи на основі вхідних даних та їх відповідних міток.</li>\r\n",
    "    <li>Постановка задачі бінарної класифікації полягає в тому, щоб розділити набір даних на два класи або категорії.</li>\r\n",
    "    <li>Рівняння гіперплощини - це лінійна розділяюча поверхня, яка використовується для розділення об'єктів у просторі на два класи. Це використовується для розв'язання задачі бінарної класифікації шляхом встановлення границі між класами.</li>\r\n",
    "    <li>Кроки для розв'язання простої задачі бінарної класифікації за допомогою машинного навчання включають:\r\n",
    "        <ol>\r\n",
    "            <li>Збір та підготовка навчальних даних.</li>\r\n",
    "            <li>Вибір моделі класифікації (наприклад, логістична регресія, метод опорних векторів тощо).</li>\r\n",
    "            <li>Тренування моделі на навчальній вибірці.</li>\r\n",
    "            <li>Оцінка та налаштування моделі за допомогою валідаційної вибірки.</li>\r\n",
    "            <li>Тестування моделі на тестовій вибірці для оцінки її ефективності.</li>\r\n",
    "        </уміння структури даних.i>"
   ]
  },
  {
   "cell_type": "code",
   "execution_count": null,
   "id": "ce794be3-ddae-480f-82c4-1713d328fad7",
   "metadata": {},
   "outputs": [],
   "source": []
  }
 ],
 "metadata": {
  "kernelspec": {
   "display_name": "Python 3 (ipykernel)",
   "language": "python",
   "name": "python3"
  },
  "language_info": {
   "codemirror_mode": {
    "name": "ipython",
    "version": 3
   },
   "file_extension": ".py",
   "mimetype": "text/x-python",
   "name": "python",
   "nbconvert_exporter": "python",
   "pygments_lexer": "ipython3",
   "version": "3.11.7"
  }
 },
 "nbformat": 4,
 "nbformat_minor": 5
}
