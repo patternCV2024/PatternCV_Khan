{
 "cells": [
  {
   "cell_type": "markdown",
   "metadata": {},
   "source": [
    "---\n",
    "title: \"Лабораторна робота 2. Побудова лінійного бінарного класифікатора на основі оптимізації функціонала якості\"\n",
    "description:\n",
    "  __Розпізнавання образів та комп'ютерний зір__\n",
    "author: \"&copy; [<span style='color: blue;'>Valeriy Sydorenko </span>](https://www.linkedin.com/in/valeriy-sydorenko-6782279a/), 2024\"\n",
    "date: \"03.06.2024\"\n",
    "lang: ukr\n",
    "format:\n",
    "  html:\n",
    "    code-fold: true\n",
    "    toc: true # меню\n",
    "    toc_float: # спливаюче меню  \n",
    "      collapsed: true # авто\n",
    "      number_sections: true\n",
    "jupyter: python3\n",
    "---"
   ]
  },
  {
   "cell_type": "markdown",
   "metadata": {},
   "source": [
    "**Мета**: реалізузвати бінарний класифікатор на основі оптимізації функціонала якості засобами мови Python"
   ]
  },
  {
   "cell_type": "markdown",
   "metadata": {},
   "source": [
    "::: callout-note\n",
    "## Примітка\n",
    "Попередньо опрацювати матеріали **Лекції 1**.\n",
    ":::"
   ]
  },
  {
   "cell_type": "markdown",
   "metadata": {
    "tags": []
   },
   "source": [
    "## Що ви будете вміти?\n",
    "* Використовувати деякі можливості бібліотеки `NumPy`\n",
    "* Реалізувати простий лінійний класифікатор на основі оптимізації функціонала якості засобами мови Python"
   ]
  },
  {
   "cell_type": "markdown",
   "metadata": {},
   "source": [
    "## Короткі теоретичні відомості"
   ]
  },
  {
   "cell_type": "markdown",
   "metadata": {},
   "source": [
    "### Бібліотека NumPy"
   ]
  },
  {
   "cell_type": "markdown",
   "metadata": {},
   "source": [
    "[NumPy](https://numpy.org/), скорочено від Numerical Python, вже давно є наріжним каменем чисельних обчислень у Python. Він надає структури даних, алгоритми та бібліотечні зв'язки, необхідні для більшості наукових програм, що використовують числові дані у Python. NumPy містить, серед іншого:\n",
    "\n",
    "* Швидкий та ефективний об'єкт багатовимірного масиву ndarray\n",
    "\n",
    "* Функції для виконання поелементних обчислень з масивами або математичних операцій між масивами\n",
    "\n",
    "* Інструменти для читання та запису наборів даних на основі масивів на диск\n",
    "\n",
    "* Операції лінійної алгебри, перетворення Фур'є та генерування випадкових чисел\n",
    "\n",
    "* Досконалий C API, що дозволяє розширенням Python та власному коду на C або C++ отримувати доступ до структур даних та обчислювальних засобів NumPy.\n",
    "\n",
    "Окрім можливостей швидкої обробки масивів, які NumPy додає до Python, одним з основних застосувань NumPy в аналізі даних є використання його як контейнера для даних, що передаються між алгоритмами та бібліотеками. Для числових даних масиви NumPy є більш ефективними для зберігання та маніпулювання даними, ніж інші вбудовані структури даних Python. Крім того, бібліотеки, написані мовою нижчого рівня, наприклад, C або FORTRAN, можуть працювати з даними, що зберігаються в масиві NumPy, без копіювання даних в інше представлення пам'яті. Таким чином, багато інструментів чисельних обчислень для Python або вважають масиви NumPy основною структурою даних, або орієнтовані на сумісність з NumPy.\n",
    "\n",
    "Для інсталяції пакету потрібно виконати таку команду с консолі:\n",
    "\n",
    "`conda install numpy`"
   ]
  },
  {
   "cell_type": "markdown",
   "metadata": {},
   "source": [
    "### Постановка задачі"
   ]
  },
  {
   "cell_type": "markdown",
   "metadata": {},
   "source": [
    "Скористаємося квадратичною функціює втрат і тоді лля нашого випадку отримаємо:\n",
    "\n",
    "$L_i(\\omega) = (1 - M_i)^2 = (1 - \\omega^T \\cdot x_i \\cdot y_i)^2.$\n",
    "\n",
    "Тоді функціонал якості матиме вигляд:\n",
    "\n",
    "$Q(a, X^l) = \\sum_{l=1}^i (1 - \\omega^T \\cdot x_i \\cdot y_i)^2 \\rightarrow \\min \\limits_{\\substack{\\omega}}$\n",
    "\n",
    "\n",
    "Маємо задачу одновимірної оптимізації:\n",
    "\n",
    "$\\frac{dQ(\\omega)}{d \\omega} = 0.$\n",
    "\n",
    "Розв'язок (знайти самостійно) матимиме такий вигляд:\n",
    "\n",
    "$\\omega ^T = \\sum_{i=1}^l x_i^T y_i \\Big( \\sum_{i=1}^l x_i x_i^T \\Big )^{-1}.$"
   ]
  },
  {
   "cell_type": "markdown",
   "metadata": {},
   "source": [
    "### Приклад реалізації на Python"
   ]
  },
  {
   "cell_type": "markdown",
   "metadata": {},
   "source": [
    "Нижче наведено код, який реалізує розрахунок коефіцієнтів лінійного класифікатора на основі оцінки, вираз якої було виведено вище."
   ]
  },
  {
   "cell_type": "code",
   "execution_count": 2,
   "metadata": {},
   "outputs": [
    {
     "name": "stdout",
     "output_type": "stream",
     "text": [
      "[ 0.05793234 -0.0346272   0.1912188 ]\n"
     ]
    },
    {
     "data": {
      "image/png": "[encoded data removed]",
      "text/plain": [
       "<Figure size 640x480 with 1 Axes>"
      ]
     },
     "metadata": {},
     "output_type": "display_data"
    }
   ],
   "source": [
    "import numpy as np\n",
    "import matplotlib.pyplot as plt\n",
    "\n",
    "x_train = [[10, 50], [20, 30], [25, 30], [20, 60], [15, 70], [40, 40], [30, 45], [20, 45], [40, 30], [7, 35]]\n",
    "x_train = [x + [1] for x in x_train]  # Додаємо зміщення для кожного прикладу\n",
    "x_train = np.array(x_train)\n",
    "y_train = np.array([-1, 1, 1, -1, -1, 1, 1, -1, 1, -1])\n",
    "\n",
    "pt = np.sum([x * y for x, y in zip(x_train, y_train)], axis=0)  # Обчислення підсумку\n",
    "xxt = np.sum([np.outer(x, x) for x in x_train], axis=0)  # Обчислення підсумку зовнішнього добутку\n",
    "w = np.dot(pt, np.linalg.inv(xxt))  # Обчислення вагових коефіцієнтів\n",
    "print(w)\n",
    "\n",
    "line_x = list(range(max(x_train[:, 0])))    # формування координат для лінії розділення\n",
    "line_y = [-x*w[0]/w[1] - w[2]/w[1] for x in line_x]\n",
    "\n",
    "x_0 = x_train[y_train == 1]                 # формування точок для класу 1\n",
    "x_1 = x_train[y_train == -1]                # і класу -1\n",
    "\n",
    "plt.scatter(x_0[:, 0], x_0[:, 1], color='red')  # відображення точок класу 1 червоним кольором\n",
    "plt.scatter(x_1[:, 0], x_1[:, 1], color='blue')  # відображення точок класу -1 синім кольором\n",
    "plt.plot(line_x, line_y, color='green')  # відображення лінії розділення зеленим кольором\n",
    "\n",
    "plt.xlim([0, 45])\n",
    "plt.ylim([0, 75])\n",
    "plt.ylabel(\"довжина\")\n",
    "plt.xlabel(\"ширина\")\n",
    "plt.grid(True)\n",
    "plt.show()"
   ]
  },
  {
   "cell_type": "markdown",
   "metadata": {},
   "source": [
    "## Завдання для самостійної роботи "
   ]
  },
  {
   "cell_type": "markdown",
   "metadata": {},
   "source": [
    "1. Імпортувати дані для навчальної вибірки згідно з індивідуальним варіантом (імпорт організувати з файлу).\n",
    "1. Побудувати бінарний МНК-класифікатор згідно з розглянутим вище прикладом і вивести результати бінарної класифікації на графіку.\n",
    "1. Проаналізувати  отримані результати і порівняти їх з результатами, отриманими у лаб роб. 1.\n",
    "1. Дати відповіді на контрольні запитання.\n",
    "1. Відправити результати роботи у файлі lab_2_StudentLastName.ipynb до віддаленого репозиторію на GіtHub."
   ]
  },
  {
   "cell_type": "markdown",
   "metadata": {},
   "source": [
    "## Контрольні питання\n",
    "\n",
    "1. Що таке відступ (margin) і яка його роль в побудові моделі класифікації?\n",
    "1. Яка роль функції втрат і чому не можна знайти коефіцієнти лінійного класифікатора шляхом безпосереднього розв'язаня задачі оптимізації через знаходження похідної? \n",
    "1. Чим приницпово розрізняється алгоритм, розглянутий у цій роботі від алгоритму, розглянутого у лаб. роб 1?\n",
    "1. Вивести математичний вираз для оцінки вектора $\\omega$?"
   ]
  },
  {
   "cell_type": "markdown",
   "metadata": {},
   "source": [
    "### Варіанти індивідульних завдань"
   ]
  },
  {
   "cell_type": "code",
   "execution_count": 13,
   "metadata": {},
   "outputs": [
    {
     "name": "stdout",
     "output_type": "stream",
     "text": [
      "Перший варіант:\n",
      "x_train_1:\n",
      "[[10 50]\n",
      " [20 30]\n",
      " [25 30]\n",
      " [20 60]\n",
      " [15 70]\n",
      " [40 40]\n",
      " [30 45]\n",
      " [20 45]\n",
      " [40 30]\n",
      " [ 7 35]]\n",
      "y_train_1:\n",
      "[-1  1  1 -1 -1  1  1 -1  1 -1]\n",
      "\n",
      "Варіант 2:\n",
      "x_train_2:\n",
      "[[26 41]\n",
      " [11 28]\n",
      " [27 48]\n",
      " [24 31]\n",
      " [ 9 48]\n",
      " [26 24]\n",
      " [50 38]\n",
      " [30 41]\n",
      " [36 35]]\n",
      "y_train_2:\n",
      "[-1  1 -1  1 -1  1  1  1 -1]\n",
      "\n",
      "Варіант 3:\n",
      "x_train_3:\n",
      "[[25 28]\n",
      " [23 39]\n",
      " [39 19]\n",
      " [44 24]\n",
      " [28 42]\n",
      " [ 7 29]\n",
      " [46 38]\n",
      " [50 34]\n",
      " [12 44]\n",
      " [50  9]]\n",
      "y_train_3:\n",
      "[ 1 -1  1  1 -1  1 -1  1 -1 -1]\n",
      "\n",
      "Варіант 4:\n",
      "x_train_4:\n",
      "[[33 45]\n",
      " [20 36]\n",
      " [ 9 31]\n",
      " [36 36]\n",
      " [14 32]\n",
      " [ 7 24]\n",
      " [28 38]\n",
      " [28 25]\n",
      " [31 17]\n",
      " [32 49]]\n",
      "y_train_4:\n",
      "[ 1  1  1 -1 -1  1 -1 -1 -1 -1]\n",
      "\n",
      "Варіант 5:\n",
      "x_train_5:\n",
      "[[49 50]\n",
      " [ 5 29]\n",
      " [37 41]\n",
      " [38 38]\n",
      " [13  5]\n",
      " [41 27]\n",
      " [ 7 32]\n",
      " [40 18]\n",
      " [31 18]\n",
      " [41 31]]\n",
      "y_train_5:\n",
      "[-1 -1 -1 -1  1  1 -1 -1  1 -1]\n",
      "\n",
      "Варіант 6:\n",
      "x_train_6:\n",
      "[[19 16]\n",
      " [ 5 41]\n",
      " [46 26]\n",
      " [47 19]\n",
      " [ 5 26]\n",
      " [35 39]\n",
      " [18 21]\n",
      " [ 6 48]\n",
      " [34 22]]\n",
      "y_train_6:\n",
      "[ 1 -1  1  1  1 -1 -1 -1  1]\n",
      "\n",
      "Варіант 7:\n",
      "x_train_7:\n",
      "[[34 33]\n",
      " [41 34]\n",
      " [ 8 44]\n",
      " [24 32]\n",
      " [26 41]\n",
      " [ 7 12]\n",
      " [37 16]\n",
      " [50 17]\n",
      " [14 16]]\n",
      "y_train_7:\n",
      "[ 1 -1  1  1  1 -1 -1  1  1]\n",
      "\n",
      "Варіант 8:\n",
      "x_train_8:\n",
      "[[41 39]\n",
      " [25 22]\n",
      " [20  5]\n",
      " [43 15]\n",
      " [50 44]\n",
      " [47 42]\n",
      " [ 8 21]\n",
      " [37 16]\n",
      " [50 27]\n",
      " [13 42]]\n",
      "y_train_8:\n",
      "[-1  1 -1  1 -1 -1  1 -1 -1  1]\n",
      "\n",
      "Варіант 9:\n",
      "x_train_9:\n",
      "[[14 37]\n",
      " [30 37]\n",
      " [38 13]\n",
      " [ 8 16]\n",
      " [49 47]\n",
      " [32 18]\n",
      " [28 25]\n",
      " [30 32]\n",
      " [38 17]\n",
      " [48 26]]\n",
      "y_train_9:\n",
      "[-1  1 -1  1 -1 -1  1 -1  1  1]\n",
      "\n",
      "Варіант 10:\n",
      "x_train_10:\n",
      "[[19  6]\n",
      " [49 10]\n",
      " [34 38]\n",
      " [46 40]\n",
      " [38 32]\n",
      " [46 43]\n",
      " [11 15]\n",
      " [ 7 44]\n",
      " [40 37]\n",
      " [ 5 47]]\n",
      "y_train_10:\n",
      "[ 1 -1  1  1 -1 -1 -1  1  1  1]\n",
      "\n",
      "Варіант 11:\n",
      "x_train_11:\n",
      "[[39 45]\n",
      " [29 13]\n",
      " [32 46]\n",
      " [50 23]\n",
      " [47 25]\n",
      " [40 47]\n",
      " [47 50]\n",
      " [28 32]\n",
      " [47 42]\n",
      " [ 6 29]]\n",
      "y_train_11:\n",
      "[ 1  1  1  1  1 -1 -1 -1 -1 -1]\n",
      "\n",
      "Варіант 12:\n",
      "x_train_12:\n",
      "[[28 50]\n",
      " [15 19]\n",
      " [39 30]\n",
      " [ 5 12]\n",
      " [48 30]\n",
      " [12 46]\n",
      " [44 41]\n",
      " [23 18]\n",
      " [11 48]\n",
      " [11  8]]\n",
      "y_train_12:\n",
      "[ 1  1  1 -1  1  1 -1 -1 -1  1]\n",
      "\n",
      "Варіант 13:\n",
      "x_train_13:\n",
      "[[37  7]\n",
      " [35 21]\n",
      " [20 41]\n",
      " [19 44]\n",
      " [ 5 38]\n",
      " [40 27]\n",
      " [41 45]\n",
      " [23 13]\n",
      " [28 36]\n",
      " [43 28]]\n",
      "y_train_13:\n",
      "[ 1 -1  1 -1  1 -1 -1 -1 -1  1]\n",
      "\n",
      "Варіант 14:\n",
      "x_train_14:\n",
      "[[23 36]\n",
      " [31 28]\n",
      " [31 20]\n",
      " [37 37]\n",
      " [ 5 42]\n",
      " [15 49]\n",
      " [50 39]\n",
      " [27 28]\n",
      " [18 45]\n",
      " [ 5 38]]\n",
      "y_train_14:\n",
      "[ 1  1  1  1  1  1  1  1 -1  1]\n",
      "\n",
      "Варіант 15:\n",
      "x_train_15:\n",
      "[[42 18]\n",
      " [38 40]\n",
      " [37 46]\n",
      " [ 5  6]\n",
      " [29 32]\n",
      " [40 26]\n",
      " [21 42]\n",
      " [48 47]\n",
      " [17 13]\n",
      " [13 30]]\n",
      "y_train_15:\n",
      "[ 1  1 -1 -1 -1  1 -1  1 -1  1]\n",
      "\n"
     ]
    }
   ],
   "source": [
    "import numpy as np\n",
    "\n",
    "# Створення першого варіанту даних\n",
    "x_train_1 = np.array([[10, 50], [20, 30], [25, 30], [20, 60], [15, 70], [40, 40], [30, 45], [20, 45], [40, 30], [7, 35]])\n",
    "y_train_1 = np.array([-1, 1, 1, -1, -1, 1, 1, -1, 1, -1])\n",
    "\n",
    "# Створення додаткових варіантів даних\n",
    "additional_datasets = []\n",
    "\n",
    "for i in range(2, 16):\n",
    "    x_train_additional = np.random.randint(5, 51, size=(10, 2))\n",
    "    y_train_additional = np.random.choice([-1, 1], size=10)\n",
    "    \n",
    "    # Видалення перетину з першим варіантом\n",
    "    intersect_indices = np.where(np.isin(x_train_additional, x_train_1).all(axis=1))[0]\n",
    "    if len(intersect_indices) > 0:\n",
    "        x_train_additional = np.delete(x_train_additional, intersect_indices, axis=0)\n",
    "        y_train_additional = np.delete(y_train_additional, intersect_indices)\n",
    "    \n",
    "    additional_datasets.append((x_train_additional, y_train_additional))\n",
    "\n",
    "# Виведення всіх даних\n",
    "print(\"Перший варіант:\")\n",
    "print(\"x_train_1:\")\n",
    "print(x_train_1)\n",
    "print(\"y_train_1:\")\n",
    "print(y_train_1)\n",
    "print()\n",
    "\n",
    "for i, (x_train_additional, y_train_additional) in enumerate(additional_datasets, start=2):\n",
    "    print(f\"Варіант {i}:\")\n",
    "    print(f\"x_train_{i}:\")\n",
    "    print(x_train_additional)\n",
    "    print(f\"y_train_{i}:\")\n",
    "    print(y_train_additional)\n",
    "    print()\n"
   ]
  },
  {
   "cell_type": "markdown",
   "metadata": {},
   "source": [
    "## References"
   ]
  },
  {
   "cell_type": "markdown",
   "metadata": {},
   "source": [
    "1. [Машинное обучение. Вводная лекция. К.В. Воронцов, Школа анализа данных, Яндекс.](https://www.youtube.com/watch?v=SZkrxWhI5qM&list=PLJOzdkh8T5krxc4HsHbB8g8f0hu7973fK&index=2)\n",
    "1. [#1. Что такое машинное обучение? Обучающая выборка и признаковое пространство | Машинное обучение](https://www.youtube.com/watch?v=Md8RW6tKCNg)\n",
    "1. [NumPy](https://numpy.org)\n",
    "1. [NumPy](https://wesmckinney.com/book/preliminaries)"
   ]
  }
 ],
 "metadata": {
  "kernelspec": {
   "display_name": "Python 3 (ipykernel)",
   "language": "python",
   "name": "python3"
  },
  "language_info": {
   "codemirror_mode": {
    "name": "ipython",
    "version": 3
   },
   "file_extension": ".py",
   "mimetype": "text/x-python",
   "name": "python",
   "nbconvert_exporter": "python",
   "pygments_lexer": "ipython3",
   "version": "3.11.7"
  }
 },
 "nbformat": 4,
 "nbformat_minor": 4
}
