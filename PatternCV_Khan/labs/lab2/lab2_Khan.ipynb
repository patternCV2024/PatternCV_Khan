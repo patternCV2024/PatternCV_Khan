{
 "cells": [
  {
   "attachments": {},
   "cell_type": "markdown",
   "id": "538a8c0a",
   "metadata": {},
   "source": [
    "<h1 align=\"center\">Лабораторна робота 2. Побудова лінійного бінарного класифікатора на основі оптимізації функціонала якості\n",
    "</h1>"
   ]
  },
  {
   "cell_type": "markdown",
   "id": "bbc4e657",
   "metadata": {},
   "source": [
    "<a href=\"https://github.com/amx122\">Хань Євгеній </a>, 2024"
   ]
  },
  {
   "cell_type": "markdown",
   "id": "0939d964",
   "metadata": {},
   "source": [
    "<h2> Завдання для самостійної роботи </h2>"
   ]
  },
  {
   "cell_type": "markdown",
   "id": "eb40840d-eceb-4f15-a2a3-fa628b7c68e4",
   "metadata": {},
   "source": [
    "<ol>\n",
    "    <li>Імпортувати дані для навчальної вибірки згідно з індивідуальним варіантом (імпорт організувати з файлу).</li>\n",
    "    <li>Побудувати бінарний МНК-класифікатор згідно з розглянутим вище прикладом і вивести результати бінарної класифікації на графіку. </li>\n",
    "    <li> Проаналізувати  отримані результати і порівняти їх з результатами, отриманими у лаб роб. 1.</li>\n",
    "   <li>  В Дати відповіді на контрольні запитання. </li>\n",
    "    <li> Відправити результати роботи у файлі lab_2_StudentLastName.ipynb до віддаленого репозиторію на GіtHub   </li>\n",
    "</olol>"
   ]
  },
  {
   "cell_type": "markdown",
   "id": "dd04ffa0-58b3-431a-aaee-115fdfb3e2bd",
   "metadata": {},
   "source": [
    "<h1> Виконання завдання:</h1>"
   ]
  },
  {
   "cell_type": "code",
   "execution_count": 16,
   "id": "32100da5-5ffe-46ad-a503-a09b0ccfc775",
   "metadata": {},
   "outputs": [
    {
     "data": {
      "image/png": "[encoded data removed]",
      "text/plain": [
       "<Figure size 800x600 with 1 Axes>"
      ]
     },
     "metadata": {},
     "output_type": "display_data"
    }
   ],
   "source": [
    "import numpy as np\n",
    "import matplotlib.pyplot as plt\n",
    "\n",
    "# Дані\n",
    "x_train_6 = np.array([[19, 16],\n",
    "                      [5, 41],\n",
    "                      [46, 26],\n",
    "                      [47, 19],\n",
    "                      [5, 26],\n",
    "                      [35, 39],\n",
    "                      [18, 21],\n",
    "                      [6, 48],\n",
    "                      [34, 22]])\n",
    "\n",
    "y_train_6 = np.array([1, -1, 1, 1, 1, -1, -1, -1, 1])\n",
    "\n",
    "# Мітки класів\n",
    "y_train_6_new = np.where(y_train_6 == 1, -1, 1)\n",
    "\n",
    "# Додаємо зміщення для кожного прикладу\n",
    "x_train_6_bias = np.c_[x_train_6, np.ones(len(x_train_6))]\n",
    "\n",
    "# Розрахунок коефіцієнтів\n",
    "pt = np.sum([x * y for x, y in zip(x_train_6_bias, y_train_6_new)], axis=0)  # Обчислення підсумку\n",
    "xxt = np.sum([np.outer(x, x) for x in x_train_6_bias], axis=0)  # Обчислення підсумку зовнішнього добутку\n",
    "w = np.dot(pt, np.linalg.inv(xxt))  # Обчислення вагових коефіцієнтів\n",
    "\n",
    "# Формування координат для лінії розділення\n",
    "line_x = np.linspace(min(x_train_6[:, 0]), max(x_train_6[:, 0]), 100)\n",
    "line_y = -w[0]/w[1] * line_x - w[2]/w[1]\n",
    "\n",
    "# Формування точок для класу 1 та класу -1\n",
    "x_minus_1 = x_train_6[y_train_6 == -1]\n",
    "x_1 = x_train_6[y_train_6 == 1]\n",
    "\n",
    "# Відображення графіку\n",
    "plt.figure(figsize=(8, 6))\n",
    "plt.scatter(x_minus_1[:, 0], x_minus_1[:, 1], color='blue', label='Клас -1')\n",
    "plt.scatter(x_1[:, 0], x_1[:, 1], color='red', label='Клас 1')\n",
    "plt.plot(line_x, line_y, color='green', label='Лінія розділення')\n",
    "\n",
    "plt.xlabel(\"Ознака 1\")\n",
    "plt.ylabel(\"Ознака 2\")\n",
    "plt.title(\"Бінарний МНК-класифікатор\")\n",
    "plt.legend()\n",
    "plt.grid(True)\n",
    "plt.show()\n"
   ]
  },
  {
   "cell_type": "markdown",
   "id": "b81143b8",
   "metadata": {},
   "source": [
    "<h1 align=\"center\">Контрольні запитання</h1>"
   ]
  },
  {
   "cell_type": "markdown",
   "id": "bdeb7384",
   "metadata": {},
   "source": [
    "<ol>\r\n",
    "    <li>Що таке відступ (margin) і яка його роль в побудові моделі класифікації?\r\n",
    "        <ul>\r\n",
    "            <li>Відступ (margin) - це відстань від розділяючої границі (лінії, площини тощо), яка розділяє два класи, до найближчої точки цього класу.</li>\r\n",
    "            <li>У моделі класифікації відступ відображає ступінь впевненості класифікатора в правильності розділення класів.</li>\r\n",
    "            <li>Його роль полягає в тому, щоб забезпечити наявність максимально можливого відступу між класами, що допомагає підвищити загальну універсальність моделі та знизити ризик перенавчання.</li>\r\n",
    "        </ul>\r\n",
    "    </li>\r\n",
    "    <li>Яка роль функції втрат і чому не можна знайти коефіцієнти лінійного класифікатора шляхом безпосереднього розв'язання задачі оптимізації через знаходження похідної?\r\n",
    "        <ul>\r\n",
    "            <li>Функція втрат визначає, наскільки добре модель класифікації працює на зразках навчальних даних.</li>\r\n",
    "            <li>Оптимізаційна задача полягає в мінімізації цієї функції, тобто виборі коефіцієнтів моделі таким чином, щоб помилки класифікації були якомога меншими.</li>\r\n",
    "            <li>Часто неможливо знайти аналітичний розв'язок для цієї задачі через складність функції втрат та велику кількість параметрів, тому застосовуються ітераційні методи оптимізації, такі як градієнтний спуск.</li>\r\n",
    "        </ul>\r\n",
    "    </li>\r\n",
    "    <li>Чим принципово розрізняється алгоритм, розглянутий у цій роботі від алгоритму, розглянутого у лабораторній роботі 1?\r\n",
    "        <ul>\r\n",
    "            <li>Алгоритм, розглянутий у цій роботі, базується на методі найменших квадратів (МНК) для побудови лінійного класифікатора.</li>\r\n",
    "            <li>У лабораторній роботі 1 розглядалась логістична регресія, яка також є методом класифікації, але використовується інший підхід до побудови моделі та розв'язання оптимізаційної задачі.</li>\r\n",
    "        </ul>\r\n",
    "    </li>\r\n",
    "    <li>Вивести математичний вираз для оцінки вектора \\( w \\):\r\n",
    "        <ul>\r\n",
    "            <li>Вираз для оцінки вектора \\( w \\) у бінарному МНК-класифікаторі може бути записаний як:\r\n",
    "              \\[ w = (X^T X)^{-1} X^T y \\]\r\n",
    "            </li>\r\n",
    "            <li>де:\r\n",
    "              <ul>\r\n",
    "                <li>\\( X \\) - матриця ознак (включаючи зміщення) розмірності \\( m \\times (n+1) \\), де \\( m \\) - кількість прикладів, а \\( n \\) - кількість ознак.</li>\r\n",
    "                <li>\\( y \\) - вектор міток класів розмірності \\( m \\times 1 \\).</li>\r\n",
    "                <li>\\( w \\) - оцінений вектор коефіцієнтів розмірності \\( (n+1) \\times 1 \\).</li>\r\n",
    "              </ul>\r\n",
    "            </li>\r\n",
    "        </ul>\r\n",
    "    </li>\r\n",
    "</ol>\r\n",
    "структури даних.i>"
   ]
  },
  {
   "cell_type": "code",
   "execution_count": null,
   "id": "ce794be3-ddae-480f-82c4-1713d328fad7",
   "metadata": {},
   "outputs": [],
   "source": []
  }
 ],
 "metadata": {
  "kernelspec": {
   "display_name": "Python 3 (ipykernel)",
   "language": "python",
   "name": "python3"
  },
  "language_info": {
   "codemirror_mode": {
    "name": "ipython",
    "version": 3
   },
   "file_extension": ".py",
   "mimetype": "text/x-python",
   "name": "python",
   "nbconvert_exporter": "python",
   "pygments_lexer": "ipython3",
   "version": "3.11.7"
  }
 },
 "nbformat": 4,
 "nbformat_minor": 5
}
