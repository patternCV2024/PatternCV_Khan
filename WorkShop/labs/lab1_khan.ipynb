{
 "cells": [
  {
   "cell_type": "markdown",
   "id": "bbc4e657",
   "metadata": {},
   "source": [
    "<a href=\"https://github.com/amx122\">Хань Євгеній</a>, 2024"
   ]
  },
  {
   "cell_type": "markdown",
   "id": "538a8c0a",
   "metadata": {},
   "source": [
    "## Домашнє завдання"
   ]
  },
  {
   "cell_type": "markdown",
   "id": "ab1b242d",
   "metadata": {},
   "source": [
    "Розв'яжіть наступний комплекс задач. Складіть систему лінійних рівнянь і розв'яжіть її за допомогою модуля numpy"
   ]
  },
  {
   "cell_type": "markdown",
   "id": "739f7e33",
   "metadata": {},
   "source": [
    "## Задача 1\n",
    "\r\n"
   ]
  },
  {
   "cell_type": "markdown",
   "id": "dd13c47d",
   "metadata": {},
   "source": [
    "### Розв'язання\n",
    "\n",
    "<p><strong>Позначимо x, y, і z суми, які вкладник поклав на перший, другий і третій рахунки відповідно.</strong></p>\r\n",
    "\r\n",
    "<p><strong>Отже, ми маємо такі рівняння:</strong></p>\r\n",
    "\r\n",
    "<ol>\r\n",
    "    <li><strong>0.05x + 0.07y = 2250</strong></li>\r\n",
    "    <li><strong>0.05x + 0.06z = 1400</strong></li>\r\n",
    "    <li><strong>x + y + z = 50000</strong></li>\r\n",
    "</ol>\r\n",
    "\r\n",
    "<p><strong>Тепер ми можемо розв'язати цю систему рівнянь за допомогою модуля numpy в Python:</strong></p>\r\n"
   ]
  },
  {
   "cell_type": "code",
   "execution_count": 2,
   "id": "8113739c",
   "metadata": {},
   "outputs": [
    {
     "name": "stdout",
     "output_type": "stream",
     "text": [
      "Сума на першому рахунку: 10000.0 умовних одиниць\n",
      "Сума на другому рахунку: 25000.0 умовних одиниць\n",
      "Сума на третьому рахунку: 15000.0 умовних одиниць\n"
     ]
    }
   ],
   "source": [
    "import numpy as np\n",
    "\n",
    "coefficients = np.array([[0.05, 0.07, 0],\n",
    "                         [0.05, 0,    0.06],\n",
    "                         [1,    1,    1]])\n",
    "\n",
    "results = np.array([2250, 1400, 50000])\n",
    "\n",
    "solution = np.linalg.solve(coefficients, results)\n",
    "\n",
    "print(\"Сума на першому рахунку:\", round(solution[0], 2), \"умовних одиниць\")\n",
    "print(\"Сума на другому рахунку:\", round(solution[1], 2), \"умовних одиниць\")\n",
    "print(\"Сума на третьому рахунку:\", round(solution[2], 2), \"умовних одиниць\")\n"
   ]
  },
  {
   "cell_type": "markdown",
   "id": "1fdf713b",
   "metadata": {},
   "source": [
    "## Задача 2\n"
   ]
  },
  {
   "cell_type": "markdown",
   "id": "4a98f302",
   "metadata": {},
   "source": [
    "### Розв'язання\n",
    "<p><strong>Позначимо кількість моделей iPhone 6, iPhone 11 і iPhone 12 відповідно як x, y і z.</strong></p>\r\n",
    "\r\n",
    "<p><strong>Ми знаємо:</strong></p>\r\n",
    "\r\n",
    "<ol>\r\n",
    "    <li><strong>x + y + z = 1328</strong> (загальна кількість моделей)</li>\r\n",
    "    <li><strong>x = y - 120</strong> (моделей iPhone 6 на 120 менше, ніж моделей iPhone 11)</li>\r\n",
    "    <li><strong>x = z + 100</strong> (моделей iPhone 6 на 100 більше, ніж моделей iPhone 12)</li>\r\n",
    "</ol>\r\n",
    "\r\n",
    "<p><strong>Вирішимо цю систему рівнянь за допомогою бібліотеки numpy в Python:</strong></p>\r\n"
   ]
  },
  {
   "cell_type": "code",
   "execution_count": 33,
   "id": "0d9300fb",
   "metadata": {},
   "outputs": [
    {
     "name": "stdout",
     "output_type": "stream",
     "text": [
      "Кількість iPhone 6: 436\n",
      "Кількість iPhone 11: 556\n",
      "Кількість iPhone 12: 336\n"
     ]
    }
   ],
   "source": [
    "import numpy as np\n",
    "\n",
    "coefficients = np.array([[1, 1, 1], [1, -1, 0], [1, 0, -1]])\n",
    "constants = np.array([1328, -120, 100])\n",
    "solution = np.linalg.solve(coefficients, constants)\n",
    "solution = np.round(solution).astype(int)\n",
    "\n",
    "print(\"Кількість iPhone 6:\", solution[0])\n",
    "print(\"Кількість iPhone 11:\", solution[1])\n",
    "print(\"Кількість iPhone 12:\", solution[2])\n"
   ]
  },
  {
   "cell_type": "markdown",
   "id": "3cb00c7f",
   "metadata": {},
   "source": [
    "## Задача 3\n"
   ]
  },
  {
   "cell_type": "markdown",
   "id": "896c5a3c",
   "metadata": {},
   "source": [
    "### Розв'язання\n",
    "\n",
    "<p><strong>Для початку, визначимо рівняння еліпса, використовуючи відомі точки \\( A \\), \\( B \\), \\( C \\). Рівняння еліпса в канонічній формі має вигляд:</strong></p>\r\n",
    "\n",
    "\n",
    "$$\n",
    "\\frac{x^2}{a^2} + \\frac{y^2}{b^2} + \\frac{z^2}{c^2} = 1\n",
    "$$\n",
    "<p><strong>Підставимо координати точок \\( A \\), \\( B \\), \\( C \\) в це рівняння і вирішимо систему рівнянь для знаходження параметрів \\( a^2 \\), \\( b^2 \\), \\( c^2 \\).</strong></p>\r\n",
    ".\n",
    "\n",
    "\n",
    "\\begin{cases}\n",
    "\\frac{(\\sqrt3)^2}{a^2} + \\frac{0^2}{b^2} + \\frac{(\\sqrt3)^2}{c^2} = 1 \\\\\n",
    "\\frac{(\\sqrt6)^2}{a^2} + \\frac{\\frac{1}{2}^2}{b^2} + \\frac{0^2}{c^2} = 1 \\\\\n",
    "\\frac{1^2}{a^2} + \\frac{\\frac{1}{\\sqrt3}^2}{b^2} + \\frac{1^2}{c^2} = 1 \\\\\n",
    "\\end{cases}\n",
    "<p><strong>Розв'яжемо цю систему рівнянь за допомогою NumPy.</strong></p\n",
    "y."
   ]
  },
  {
   "cell_type": "code",
   "execution_count": 34,
   "id": "87fb786b",
   "metadata": {},
   "outputs": [
    {
     "name": "stdout",
     "output_type": "stream",
     "text": [
      "a^2 = 0.08333333333333338\n",
      "b^2 = 1.9999999999999993\n",
      "c^2 = 0.25\n"
     ]
    }
   ],
   "source": [
    "import numpy as np\n",
    "\n",
    "A = np.array([np.sqrt(3), 0, np.sqrt(3)])\n",
    "B = np.array([np.sqrt(6), 1/2, 0])\n",
    "C = np.array([1, 1/np.sqrt(3), 1])\n",
    "\n",
    "coefficients_matrix = np.array([[A[0]**2, 0, A[2]**2],\n",
    "                                [B[0]**2, (1/2)**2, 0],\n",
    "                                [1, (1/np.sqrt(3))**2, 1]])\n",
    "\n",
    "constants_vector = np.array([1, 1, 1])\n",
    "\n",
    "solution = np.linalg.solve(coefficients_matrix, constants_vector)\n",
    "\n",
    "print(\"a^2 =\", solution[0])\n",
    "print(\"b^2 =\", solution[1])\n",
    "print(\"c^2 =\", solution[2])\n"
   ]
  },
  {
   "cell_type": "markdown",
   "id": "9f39fa87",
   "metadata": {},
   "source": [
    "## Задача 4\n"
   ]
  },
  {
   "cell_type": "markdown",
   "id": "3ddebf77",
   "metadata": {},
   "source": [
    "### Розв'язання\n",
    "<p><strong>Спочатку створимо матрицю, де кожен рядок представляє координати x і y кожної точки, а останній стовпець заповнений одиницями (для коефіцієнта c). Після цього ми зможемо використати функцію numpy.linalg.solve() для знаходження коефіцієнтів.</strong></p>\r\n",
    "\r\n",
    "<p><strong>Ось як це можна зробити в коді Python з використанням NumPy:</strong></p>\r\n"
   ]
  },
  {
   "cell_type": "code",
   "execution_count": 35,
   "id": "53217b64",
   "metadata": {},
   "outputs": [
    {
     "name": "stdout",
     "output_type": "stream",
     "text": [
      "Коефіцієнти рівняння параболи:\n",
      "a = 4.000000000000002\n",
      "b = 4.9999999999999964\n",
      "c = 2.9999999999999964\n"
     ]
    }
   ],
   "source": [
    "import numpy as np\n",
    "\n",
    "points = np.array([[1, 1, 12],\n",
    "                   [3, 1, 54],\n",
    "                   [-1, 1, 2]])\n",
    "\n",
    "x = points[:, 0]\n",
    "y = points[:, 2]\n",
    "\n",
    "A = np.vstack([x**2, x, np.ones(len(x))]).T\n",
    "\n",
    "a, b, c = np.linalg.lstsq(A, y, rcond=None)[0]\n",
    "\n",
    "print(\"Коефіцієнти рівняння параболи:\")\n",
    "print(\"a =\", a)\n",
    "print(\"b =\", b)\n",
    "print(\"c =\", c)\n"
   ]
  },
  {
   "cell_type": "markdown",
   "id": "b69990ce",
   "metadata": {},
   "source": [
    "## Задача 5\n",
    "\n"
   ]
  },
  {
   "cell_type": "markdown",
   "id": "0755f9ad",
   "metadata": {},
   "source": [
    "### Розв'язання\n",
    "\n",
    "<p><strong>Щоб розв'язати цю задачу за допомогою бібліотеки NumPy, ми можемо скористатися методом найменших квадратів для побудови поліноміальної апроксимації. Для цього ми спочатку створимо матрицю системи рівнянь, а потім вирішимо її за допомогою функції np.linalg.solve.</strong></p>\r\n",
    "\r\n",
    "<p><strong>Ось як це можна зробити:</strong></p>\r\n"
   ]
  },
  {
   "cell_type": "code",
   "execution_count": 5,
   "id": "e3170e1f",
   "metadata": {},
   "outputs": [
    {
     "name": "stdout",
     "output_type": "stream",
     "text": [
      "Коефіцієнти многочлена: [ 3.         -2.33333333  1.5        -0.16666667]\n"
     ]
    }
   ],
   "source": [
    "import numpy as np\n",
    "\n",
    "def get_polynom(coords):\n",
    "    n = len(coords) - 1  \n",
    "\n",
    "    A = np.zeros((n + 1, n + 1))\n",
    "    b = np.zeros(n + 1)\n",
    "    for i in range(n + 1):\n",
    "        x, y = coords[i]\n",
    "        b[i] = y\n",
    "        for j in range(n + 1):\n",
    "            A[i, j] = x ** j\n",
    "\n",
    "    coeffs = np.linalg.solve(A, b)\n",
    "    \n",
    "    return coeffs\n",
    "\n",
    "coords = [(1, 2), (2, 3), (3, 5), (4, 7)]\n",
    "coefficients = get_polynom(coords)\n",
    "print(\"Коефіцієнти многочлена:\", coefficients)\n"
   ]
  },
  {
   "cell_type": "code",
   "execution_count": null,
   "id": "163e96dc-34a1-4fcd-aa19-38338153b382",
   "metadata": {},
   "outputs": [],
   "source": []
  }
 ],
 "metadata": {
  "kernelspec": {
   "display_name": "Python 3 (ipykernel)",
   "language": "python",
   "name": "python3"
  },
  "language_info": {
   "codemirror_mode": {
    "name": "ipython",
    "version": 3
   },
   "file_extension": ".py",
   "mimetype": "text/x-python",
   "name": "python",
   "nbconvert_exporter": "python",
   "pygments_lexer": "ipython3",
   "version": "3.11.7"
  }
 },
 "nbformat": 4,
 "nbformat_minor": 5
}
